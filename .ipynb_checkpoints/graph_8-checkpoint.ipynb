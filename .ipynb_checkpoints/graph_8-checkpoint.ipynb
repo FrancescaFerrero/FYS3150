{
 "cells": [
  {
   "cell_type": "code",
   "execution_count": 1,
   "metadata": {},
   "outputs": [],
   "source": [
    "# multidimensional arrays\n",
    "import numpy as np\n",
    "import math\n",
    "\n",
    "# inline plots\n",
    "import matplotlib.pyplot as plt\n",
    "%matplotlib inline\n",
    "\n",
    "# nicer figures\n",
    "import matplotlib as mpl\n",
    "mpl.rcParams['axes.titlesize'] = 16\n",
    "mpl.rcParams['axes.labelsize'] = 14\n",
    "mpl.rcParams['legend.fontsize'] = 12\n",
    "mpl.rcParams['xtick.labelsize'] = 12\n",
    "mpl.rcParams['ytick.labelsize'] = 12\n",
    "#mpl.rcParams['axes.spines.right'] = False\n",
    "#mpl.rcParams['axes.spines.top'] = False"
   ]
  },
  {
   "cell_type": "code",
   "execution_count": 3,
   "metadata": {},
   "outputs": [],
   "source": [
    "#reading file with n=10\n",
    "file = open('solutions_7_10.txt', 'r')\n",
    "lines = file.readlines() \n",
    "file.close()\n",
    "\n",
    "x_num_10=[]\n",
    "v_10=[]\n",
    "\n",
    "for line in lines:\n",
    "    x_num_10.append(line.split()[0])\n",
    "    v_10.append(line.split()[1])\n",
    "\n",
    "for i in range(len(x_num_10)):\n",
    "    x_num_10[i]=float(x_num_10[i])\n",
    "    \n",
    "for i in range(len(v_10)):\n",
    "    v_10[i]=float(v_10[i])\n",
    "\n",
    "#reading file with n=100\n",
    "\n",
    "file = open('solutions_7_100.txt', 'r')\n",
    "lines = file.readlines() \n",
    "file.close()\n",
    "\n",
    "x_num_100=[]\n",
    "v_100=[]\n",
    "\n",
    "for line in lines:\n",
    "    x_num_100.append(line.split()[0])\n",
    "    v_100.append(line.split()[1])\n",
    "\n",
    "for i in range(len(x_num_100)):\n",
    "    x_num_100[i]=float(x_num_100[i])\n",
    "    \n",
    "for i in range(len(v_100)):\n",
    "    v_100[i]=float(v_100[i])\n",
    "    \n",
    "#reading file with n=1000\n",
    "\n",
    "file = open('solutions_7_1000.txt', 'r')\n",
    "lines = file.readlines() \n",
    "file.close()\n",
    "\n",
    "x_num_1000=[]\n",
    "v_1000=[]\n",
    "\n",
    "for line in lines:\n",
    "    x_num_1000.append(line.split()[0])\n",
    "    v_1000.append(line.split()[1])\n",
    "\n",
    "for i in range(len(x_num_1000)):\n",
    "    x_num_1000[i]=float(x_num_1000[i])\n",
    "    \n",
    "for i in range(len(v_1000)):\n",
    "    v_1000[i]=float(v_1000[i])"
   ]
  },
  {
   "cell_type": "code",
   "execution_count": 12,
   "metadata": {},
   "outputs": [
    {
     "ename": "SyntaxError",
     "evalue": "Generator expression must be parenthesized (<ipython-input-12-0140609b5621>, line 7)",
     "output_type": "error",
     "traceback": [
      "\u001b[0;36m  File \u001b[0;32m\"<ipython-input-12-0140609b5621>\"\u001b[0;36m, line \u001b[0;32m7\u001b[0m\n\u001b[0;31m    ax1.scatter(x_num_10,math.log(abs(u_10[i]-v_10[i]),10) for i in range(len(x_num_10)),color=\"red\", label=\"10\",linewidth=0.6)\u001b[0m\n\u001b[0m                        ^\u001b[0m\n\u001b[0;31mSyntaxError\u001b[0m\u001b[0;31m:\u001b[0m Generator expression must be parenthesized\n"
     ]
    }
   ],
   "source": [
    "fig, (ax1,ax2,ax3) = plt.subplots(1, 3, figsize=(16, 5))\n",
    "\n",
    "# plot\n",
    "u_10=[1-(1-math.exp(-10))*x_num_10[i]-math.exp(-10*x_num_10[i]) for i in range(len(x_num_10))]\n",
    "u_100=[1-(1-math.exp(-10))*x_num_100[i]-math.exp(-10*x_num_100[i]) for i in range(len(x_num_100))]\n",
    "u_1000=[1-(1-math.exp(-10))*x_num_1000[i]-math.exp(-10*x_num_1000[i]) for i in range(len(x_num_1000))]\n",
    "ax1.scatter(x_num_10,math.log(abs(u_10[i]-v_10[i]),10) for i in range(len(x_num_10)),color=\"red\", label=\"10\",linewidth=0.6)\n",
    "ax2.scatter(x_num_100,math.log(abs(u-v_100),10),color=\"red\", label=\"100\",linewidth=0.6)\n",
    "ax3.scatter(x_num_1000,math.log(abs(u-v_1000),10),color=\"red\", label=\"1000\",linewidth=0.6)\n",
    "\n",
    "\n",
    "# add axis labels and legend\n",
    "ax1.set_xlabel(\"x\")\n",
    "ax1.set_ylabel(\"Solution\")\n",
    "ax1.legend()\n",
    "ax2.set_xlabel(\"x\")\n",
    "ax2.set_ylabel(\"Solution\")\n",
    "ax2.legend()\n",
    "ax3.set_xlabel(\"x\")\n",
    "ax3.set_ylabel(\"Solution\")\n",
    "ax3.legend()\n",
    "# add a title \n",
    "ax1.set_title(\"n=10\")\n",
    "ax2.set_title(\"n=100\")\n",
    "ax3.set_title(\"n=1000\")\n",
    "\n",
    "ax1.grid(linestyle = '--', linewidth = 0.1)\n",
    "ax2.grid(linestyle = '--', linewidth = 0.1)\n",
    "ax3.grid(linestyle = '--', linewidth = 0.1)\n",
    "\n",
    "plt.savefig(\"fig_8.pdf\")"
   ]
  },
  {
   "cell_type": "code",
   "execution_count": null,
   "metadata": {},
   "outputs": [],
   "source": []
  }
 ],
 "metadata": {
  "kernelspec": {
   "display_name": "Python 3",
   "language": "python",
   "name": "python3"
  },
  "language_info": {
   "codemirror_mode": {
    "name": "ipython",
    "version": 3
   },
   "file_extension": ".py",
   "mimetype": "text/x-python",
   "name": "python",
   "nbconvert_exporter": "python",
   "pygments_lexer": "ipython3",
   "version": "3.7.6"
  }
 },
 "nbformat": 4,
 "nbformat_minor": 4
}
