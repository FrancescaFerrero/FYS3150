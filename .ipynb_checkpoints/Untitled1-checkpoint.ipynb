{
 "cells": [
  {
   "cell_type": "code",
   "execution_count": 7,
   "metadata": {},
   "outputs": [],
   "source": [
    "# multidimensional arrays\n",
    "import numpy as np\n",
    "import math\n",
    "\n",
    "# inline plots\n",
    "import matplotlib.pyplot as plt\n",
    "%matplotlib inline\n",
    "from matplotlib import ticker\n",
    "\n",
    "# nicer figures\n",
    "import matplotlib as mpl"
   ]
  },
  {
   "cell_type": "code",
   "execution_count": 54,
   "metadata": {},
   "outputs": [
    {
     "data": {
      "text/plain": [
       "Text(0.5, 1.0, 'Poisson equation')"
      ]
     },
     "execution_count": 54,
     "metadata": {},
     "output_type": "execute_result"
    },
    {
     "data": {
      "image/png": "[encoded data removed]",
      "text/plain": [
       "<Figure size 432x288 with 1 Axes>"
      ]
     },
     "metadata": {
      "needs_background": "light"
     },
     "output_type": "display_data"
    }
   ],
   "source": [
    "fig, ax = plt.subplots(1, 1)\n",
    "# plot theoretical result\n",
    "x_cont = np.linspace(start=0, stop=1, num=10000)\n",
    "u=[1-(1-math.exp(-10))*x_cont[i]-math.exp(-10*x_cont[i]) for i in range(10000)]\n",
    "ax.plot(x_cont,u,color=\"red\", label=\"Theory\")\n",
    "# plot numerical result\n",
    "#plt.scatter(x_num[90:],v[90:],color=\"blue\", label=\"numerical\")\n",
    "# add axis labels\n",
    "ax.set_xlabel(\"x\")\n",
    "ax.set_ylabel(\"Solution\")\n",
    "# add a legend\n",
    "ax.legend()\n",
    "# add a title (e.g. that says what dimension we used)\n",
    "ax.set_title(\"Poisson equation\")\n",
    "#plt.ylim(0,1)"
   ]
  },
  {
   "cell_type": "code",
   "execution_count": 3,
   "metadata": {},
   "outputs": [],
   "source": [
    "file = open('solutions_7.txt', 'r')\n",
    "lines = file.readlines() \n",
    "file.close()\n",
    "\n",
    "x_num=[]\n",
    "v=[]\n",
    "\n",
    "for line in lines:\n",
    "    x_num.append(line.split()[0])\n",
    "    v.append(line.split()[1])"
   ]
  },
  {
   "cell_type": "code",
   "execution_count": 15,
   "metadata": {},
   "outputs": [
    {
     "name": "stdout",
     "output_type": "stream",
     "text": [
      "['0.019802', '0.029703', '0.039604', '0.049505']\n"
     ]
    }
   ],
   "source": [
    "print(x_num[1:5])"
   ]
  },
  {
   "cell_type": "code",
   "execution_count": 55,
   "metadata": {},
   "outputs": [
    {
     "data": {
      "text/plain": [
       "'0.669173'"
      ]
     },
     "execution_count": 55,
     "metadata": {},
     "output_type": "execute_result"
    }
   ],
   "source": [
    "max(v)"
   ]
  },
  {
   "cell_type": "code",
   "execution_count": null,
   "metadata": {},
   "outputs": [],
   "source": []
  }
 ],
 "metadata": {
  "kernelspec": {
   "display_name": "Python 3",
   "language": "python",
   "name": "python3"
  },
  "language_info": {
   "codemirror_mode": {
    "name": "ipython",
    "version": 3
   },
   "file_extension": ".py",
   "mimetype": "text/x-python",
   "name": "python",
   "nbconvert_exporter": "python",
   "pygments_lexer": "ipython3",
   "version": "3.7.6"
  }
 },
 "nbformat": 4,
 "nbformat_minor": 4
}
