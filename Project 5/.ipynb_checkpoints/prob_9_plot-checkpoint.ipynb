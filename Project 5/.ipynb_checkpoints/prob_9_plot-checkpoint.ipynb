{
 "cells": [
  {
   "cell_type": "code",
   "execution_count": null,
   "metadata": {},
   "outputs": [],
   "source": [
    "# multidimensional arrays\n",
    "import numpy as np\n",
    "import math\n",
    "import pyarma as pa\n",
    "\n",
    "# inline plots\n",
    "import matplotlib.pyplot as plt\n",
    "%matplotlib inline\n",
    "\n",
    "# nicer figures\n",
    "import matplotlib as mpl\n",
    "mpl.rcParams['axes.titlesize'] = 18\n",
    "mpl.rcParams['axes.labelsize'] = 16\n",
    "mpl.rcParams['xtick.labelsize'] = 14\n",
    "mpl.rcParams['ytick.labelsize'] = 14\n",
    "mpl.rcParams['legend.fontsize'] = 16\n",
    "plt.rcParams[\"figure.figsize\"] = (7.5,5)"
   ]
  },
  {
   "cell_type": "code",
   "execution_count": null,
   "metadata": {},
   "outputs": [],
   "source": [
    "# Reading data from binary files - 2 slits\n",
    "prob2 = pa.mat()\n",
    "prob2.load(\"probability2_2.bin\")"
   ]
  },
  {
   "cell_type": "code",
   "execution_count": null,
   "metadata": {},
   "outputs": [],
   "source": [
    "# Insert the edges where the probability is zero\n",
    "prob2_2 = np.zeros((201,201))\n",
    "prob2_2[1:-1,1:-1] = prob2"
   ]
  },
  {
   "cell_type": "code",
   "execution_count": null,
   "metadata": {},
   "outputs": [],
   "source": [
    "# Plot 1D probability - 2 slits\n",
    "y = np.arange(np.shape(prob2_2)[0])/201\n",
    "P = np.sqrt(prob2_2[:,160])/np.linalg.norm(np.sqrt(prob2_2[:,160]))\n",
    "plt.plot(y, P)\n",
    "\n",
    "# add axis labels and legend\n",
    "plt.xlabel(\"$y$\")\n",
    "plt.ylabel(\"$p(y|x=0.8;t=0.002)$\")\n",
    "\n",
    "# add grid\n",
    "plt.grid(linestyle = '--', linewidth = 0.2)\n",
    "\n",
    "# save plot as pdf\n",
    "plt.savefig(\"1D_prob_2.pdf\")"
   ]
  },
  {
   "cell_type": "code",
   "execution_count": null,
   "metadata": {},
   "outputs": [],
   "source": [
    "# Reading data from binary files - 3 slits\n",
    "prob = pa.mat()\n",
    "prob.load(\"probability2_3.bin\")"
   ]
  },
  {
   "cell_type": "code",
   "execution_count": null,
   "metadata": {},
   "outputs": [],
   "source": [
    "# Insert the edges where the probability is zero\n",
    "prob2_3 = np.zeros((201,201))\n",
    "prob2_3[1:-1,1:-1] = prob"
   ]
  },
  {
   "cell_type": "code",
   "execution_count": null,
   "metadata": {},
   "outputs": [],
   "source": [
    "# Plot 1D probability - 3 slits\n",
    "y = np.arange(np.shape(prob2_3)[0])/201\n",
    "P = np.sqrt(prob2_3[:,160])/np.linalg.norm(np.sqrt(prob2_3[:,160]))\n",
    "plt.plot(y, P)\n",
    "\n",
    "# add axis labels and legend\n",
    "plt.xlabel(\"$y$\")\n",
    "plt.ylabel(\"$p(y|x=0.8;t=0.002)$\")\n",
    "\n",
    "# add grid\n",
    "plt.grid(linestyle = '--', linewidth = 0.2)\n",
    "\n",
    "# save plot as pdf\n",
    "plt.savefig(\"1D_prob_3.pdf\")"
   ]
  },
  {
   "cell_type": "code",
   "execution_count": null,
   "metadata": {},
   "outputs": [],
   "source": [
    "# Reading data from binary files - 1 slit\n",
    "prob = pa.mat()\n",
    "prob.load(\"probability2_1.bin\")"
   ]
  },
  {
   "cell_type": "code",
   "execution_count": null,
   "metadata": {},
   "outputs": [],
   "source": [
    "# Insert the edges where the probability is zero\n",
    "prob2_1 = np.zeros((201,201))\n",
    "prob2_1[1:-1,1:-1] = prob"
   ]
  },
  {
   "cell_type": "code",
   "execution_count": null,
   "metadata": {},
   "outputs": [],
   "source": [
    "# Plot 1D probability - 1 slit\n",
    "y = np.arange(np.shape(prob2_1)[0])/201\n",
    "P = np.sqrt(prob2_1[:,160])/np.linalg.norm(np.sqrt(prob2_1[:,160]))\n",
    "plt.plot(y, P)\n",
    "\n",
    "# add axis labels and legend\n",
    "plt.xlabel(\"$y$\")\n",
    "plt.ylabel(\"$p(y|x=0.8;t=0.002)$\")\n",
    "\n",
    "# add grid\n",
    "plt.grid(linestyle = '--', linewidth = 0.2)\n",
    "\n",
    "# save plot as pdf\n",
    "plt.savefig(\"1D_prob_1.pdf\")"
   ]
  }
 ],
 "metadata": {
  "kernelspec": {
   "display_name": "Python 3",
   "language": "python",
   "name": "python3"
  },
  "language_info": {
   "codemirror_mode": {
    "name": "ipython",
    "version": 3
   },
   "file_extension": ".py",
   "mimetype": "text/x-python",
   "name": "python",
   "nbconvert_exporter": "python",
   "pygments_lexer": "ipython3",
   "version": "3.7.6"
  },
  "toc": {
   "base_numbering": 1,
   "nav_menu": {},
   "number_sections": true,
   "sideBar": true,
   "skip_h1_title": false,
   "title_cell": "Table of Contents",
   "title_sidebar": "Contents",
   "toc_cell": false,
   "toc_position": {},
   "toc_section_display": true,
   "toc_window_display": false
  }
 },
 "nbformat": 4,
 "nbformat_minor": 5
}
